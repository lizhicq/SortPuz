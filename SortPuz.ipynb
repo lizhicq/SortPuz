{
 "cells": [
  {
   "cell_type": "markdown",
   "metadata": {},
   "source": [
    "## Image Resizing and Normalization"
   ]
  },
  {
   "cell_type": "code",
   "execution_count": 1,
   "metadata": {},
   "outputs": [],
   "source": [
    "from PIL import Image\n",
    "from tensorflow.keras.preprocessing.image import img_to_array\n",
    "\n",
    "# Load the image (you'll need to specify the path to the image file)\n",
    "image_path = 'data/130.png'\n",
    "image = Image.open(image_path)\n",
    "\n",
    "# Resize the image\n",
    "image_resized = image.resize((224, 224))\n",
    "\n",
    "# Convert to array and normalize\n",
    "image_array = img_to_array(image_resized) / 255.0\n"
   ]
  },
  {
   "cell_type": "markdown",
   "metadata": {},
   "source": [
    "## Label Encoding\n"
   ]
  },
  {
   "cell_type": "code",
   "execution_count": 4,
   "metadata": {},
   "outputs": [],
   "source": [
    "from sklearn.preprocessing import MultiLabelBinarizer\n",
    "import json\n",
    "import matplotlib.pyplot as plt\n",
    "\n",
    "file_names = [('data/130.json', '130.png'), ('data/50.json', '50.png'), ('data/639.json', '639.png')]\n",
    "\n",
    "mlb = MultiLabelBinarizer()  # Initialize the MultiLabelBinarizer outside the loop\n",
    "\n",
    "for json_file, png_file in file_names:\n",
    "    # Read the JSON file\n",
    "    with open(json_file, 'r') as file:\n",
    "        json_data = json.load(file)\n",
    "        labels = [tuple(colors) for colors in json_data['bottles']]\n",
    "\n",
    "    # Binarize the labels\n",
    "    encoded_labels = mlb.fit_transform(labels)\n",
    "\n",
    "    # Read the PNG file\n",
    "    png_data = plt.imread(png_file)\n",
    "\n",
    "    # Process the JSON and PNG data\n",
    "    # (replace this with your processing code)\n",
    "    processed_json, processed_png = process_data(json_data, png_data, encoded_labels)\n",
    "\n",
    "    # Save or use the results as needed\n",
    "    # ...\n"
   ]
  },
  {
   "cell_type": "code",
   "execution_count": null,
   "metadata": {},
   "outputs": [],
   "source": []
  }
 ],
 "metadata": {
  "kernelspec": {
   "display_name": "chatGPT env",
   "language": "python",
   "name": "chatgpt"
  },
  "language_info": {
   "codemirror_mode": {
    "name": "ipython",
    "version": 3
   },
   "file_extension": ".py",
   "mimetype": "text/x-python",
   "name": "python",
   "nbconvert_exporter": "python",
   "pygments_lexer": "ipython3",
   "version": "3.9.17"
  },
  "orig_nbformat": 4
 },
 "nbformat": 4,
 "nbformat_minor": 2
}
