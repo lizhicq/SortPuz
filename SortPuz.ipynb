{
 "cells": [
  {
   "cell_type": "markdown",
   "metadata": {},
   "source": [
    "## Image Resizing and Normalization"
   ]
  },
  {
   "cell_type": "code",
   "execution_count": 1,
   "metadata": {},
   "outputs": [],
   "source": [
    "from PIL import Image\n",
    "from tensorflow.keras.preprocessing.image import img_to_array\n",
    "\n",
    "# Load the image (you'll need to specify the path to the image file)\n",
    "image_path = 'data/130.png'\n",
    "image = Image.open(image_path)\n",
    "\n",
    "# Resize the image\n",
    "image_resized = image.resize((224, 224))\n",
    "\n",
    "# Convert to array and normalize\n",
    "image_array = img_to_array(image_resized) / 255.0\n"
   ]
  },
  {
   "cell_type": "markdown",
   "metadata": {},
   "source": [
    "## Label Encoding\n"
   ]
  },
  {
   "cell_type": "code",
   "execution_count": 4,
   "metadata": {},
   "outputs": [],
   "source": [
    "from sklearn.preprocessing import MultiLabelBinarizer\n",
    "\n",
    "# Convert the labels to a list of tuples\n",
    "import json\n",
    "\n",
    "# Load JSON data from a file\n",
    "with open('data/130.json', 'r') as file:\n",
    "    json_data = json.load(file)\n",
    "    labels = [tuple(colors) for colors in json_data['bottles']]\n",
    "\n",
    "# Binarize the labels\n",
    "mlb = MultiLabelBinarizer()\n",
    "encoded_labels = mlb.fit_transform(labels)"
   ]
  },
  {
   "cell_type": "code",
   "execution_count": null,
   "metadata": {},
   "outputs": [],
   "source": []
  }
 ],
 "metadata": {
  "kernelspec": {
   "display_name": "chatGPT env",
   "language": "python",
   "name": "chatgpt"
  },
  "language_info": {
   "codemirror_mode": {
    "name": "ipython",
    "version": 3
   },
   "file_extension": ".py",
   "mimetype": "text/x-python",
   "name": "python",
   "nbconvert_exporter": "python",
   "pygments_lexer": "ipython3",
   "version": "3.9.17"
  },
  "orig_nbformat": 4
 },
 "nbformat": 4,
 "nbformat_minor": 2
}
